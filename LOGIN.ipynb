{
 "cells": [
  {
   "cell_type": "code",
   "execution_count": 1,
   "id": "02d82e67-8df7-4bd3-b1de-05815bc98665",
   "metadata": {},
   "outputs": [
    {
     "name": "stdout",
     "output_type": "stream",
     "text": [
      "hello students\n"
     ]
    }
   ],
   "source": [
    "print(\"hello students\")"
   ]
  },
  {
   "cell_type": "code",
   "execution_count": 1,
   "id": "1565c188-f56b-4f2d-8655-7f3ad8d595f2",
   "metadata": {},
   "outputs": [],
   "source": [
    "def main():\n",
    "    import tkinter as tk  #impport library gui ke liye\n",
    "    root=tk.Tk()\n",
    "    root.title(\"Login\")#gui title\n",
    "    root.configure(bg=\"gray\")#root background color\n",
    "    root.geometry(\"600x400\")# root size\n",
    "    \n",
    "    label1=tk.Label(root,text=\"WELCOME TO MAHARISHI COLLEGE\",font=(\"Arial\",25),bg=\"black\",fg=\"white\").pack()\n",
    "    buton=tk.Button(root,text=\"singup\",font=(\"Arial\",18),bg=\"blue\",fg=\"black\",command=singup).place(x=170,y=200)\n",
    "    buton=tk.Button(root,text=\"login\",font=(\"Arial\",18),bg=\"blue\",fg=\"black\",command=login).place(x=340,y=200)\n",
    "    root.mainloop()"
   ]
  },
  {
   "cell_type": "code",
   "execution_count": 3,
   "id": "8f042818-aa9a-4ffc-ac7c-a7cfa8e2bdee",
   "metadata": {},
   "outputs": [],
   "source": [
    "#create a singup function\n",
    "def singup():\n",
    "    import tkinter as tk\n",
    "    def datafetch():# data jo bhu user enter karega usko handle karege issme \n",
    "            user=e1.get()\n",
    "            password=e2.get()\n",
    "            confirm=e3.get()\n",
    "           \n",
    "            if password==confirm:\n",
    "                print(user,password)\n",
    "                import mysql.connector as ms\n",
    "                conn=ms.connect(host=\"localhost\",user=\"root\",password=\"\",database=\"userdata\")\n",
    "                mycursor=conn.cursor()\n",
    "                #query=\"create table studen(name varchar(255) unique,password int)\"\n",
    "                #query=\"insert into studen values('Maharishi',12345)\"\n",
    "                query=\"insert into studen values(%s,%s)\"\n",
    "                value=(user,password)\n",
    "                mycursor.execute(query,value)\n",
    "                conn.commit()# hame last me commit karna hota h jisse  hamara data database me save hota h\n",
    "                print(\"done\")#hame pta chal  jayega ki hamra lib import hui h ya nhi\n",
    "                root=tk.Tk()\n",
    "                root.title(\"Login\")#gui title\n",
    "                root.configure(bg=\"gray\")#root background color\n",
    "                tk.Label(root,text=\"singup Success\",bg=\"blue\",fg=\"black\",font=(\"Arial\",20)).pack()\n",
    "                e1.delete(0,tk.END)#entry box ko empty karne ke liye\n",
    "                e2.delete(0,tk.END)#entry box ko empty karne ke liye\n",
    "                e3.delete(0,tk.END)#entry box ko empty karne ke liye\n",
    "            else:\n",
    "                print(\"notmatch password\")\n",
    "                root=tk.Tk()\n",
    "                root.title(\"Login\")#gui title\n",
    "                root.configure(bg=\"gray\")#root background color\n",
    "                lb=tk.Label(root,text=\"Confirm Pass Not Match\",font=(\"Arial\",20),bg=\"gray\",fg=\"black\").pack()\n",
    "                e3.delete(0,tk.END)#entry box ko empty karne ke liye\n",
    "    root=tk.Tk()\n",
    "    root.title(\"Login\")#gui title\n",
    "    root.configure(bg=\"gray\")#root background color\n",
    "    root.geometry(\"600x500\")# root size\n",
    "    label1=tk.Label(root,text=\"user\",font=(\"Arial\",25),bg=\"black\",fg=\"white\").place(x=100,y=100)\n",
    "    label2=tk.Label(root,text=\"password\",font=(\"Arial\",25),bg=\"black\",fg=\"white\").place(x=100,y=200)\n",
    "    label3=tk.Label(root,text=\"confirm\",font=(\"Arial\",25),bg=\"black\",fg=\"white\").place(x=100,y=300)\n",
    "    buton=tk.Button(root,text=\"Submit\",font=(\"Arial\",18),bg=\"blue\",fg=\"black\",command=datafetch).place(x=200,y=370)\n",
    "    e1=tk.Entry(root)#entry box we can say input box\n",
    "    e2=tk.Entry(root,show=\"*\")#entry box we can say input box,show password hide karne ke liye\n",
    "    e3=tk.Entry(root,show=\"*\")#entry box we can say input box\n",
    "    e1.place(x=300,y=100)\n",
    "    e2.place(x=300,y=200)\n",
    "    e3.place(x=300,y=300)\n",
    "    \n",
    "    \n",
    "\n",
    "    "
   ]
  },
  {
   "cell_type": "code",
   "execution_count": 4,
   "id": "a9b16cfa-0f62-4859-8d11-f78bf923aa2a",
   "metadata": {},
   "outputs": [],
   "source": [
    "#create a login function\n",
    "def login():\n",
    "    import tkinter as tk\n",
    "    import mysql.connector as ms\n",
    "    conn=ms.connect(host=\"localhost\",user=\"root\",password=\"\",database=\"userdata\")\n",
    "    mycursor=conn.cursor()\n",
    "    query=\"select * from studen\"\n",
    "    mycursor.execute(query)\n",
    "    data=mycursor.fetchall()\n",
    "    def fetchdata():\n",
    "        print(data)\n",
    "        u=e1.get()\n",
    "        p=(e2.get())\n",
    "        print(u)\n",
    "        print(p)\n",
    "        for i in range(len(data)):#yha len se data ki length pta chal rhi h ki kitne user databse me h\n",
    "            if u==data[i][0] and p==data[i][1]:\n",
    "                print(\"match data\",u,data[i][0],p,data[i][1])\n",
    "                e1.delete(0,tk.END)\n",
    "                e2.delete(0,tk.END)\n",
    "                root=tk.Tk()\n",
    "                root.configure(bg=\"blue\")\n",
    "                tk.Label(root,text=\"User Found\",fg=\"black\",font=(\"Arial\",18)).pack()\n",
    "                break\n",
    "            elif u==data[i][0] and p!=data[i][1]:\n",
    "                print(\"password incorrect\",u,data[i][0],p,data[i][1])\n",
    "                e2.delete(0,tk.END)\n",
    "                root=tk.Tk()\n",
    "                root.configure(bg=\"gray\")\n",
    "                tk.Label(root,text=\"password incorrect\",fg=\"red\",font=(\"Arial\",18)).pack()\n",
    "                break\n",
    "            else:\n",
    "                 i+=1\n",
    "        else:\n",
    "            print(\"user not found\")\n",
    "            e1.delete(0,tk.END)\n",
    "           \n",
    "    import tkinter as tk\n",
    "    root=tk.Tk()\n",
    "    root.title(\"Login\")#gui title\n",
    "    root.configure(bg=\"gray\")#root background color\n",
    "    root.geometry(\"600x500\")# root size\n",
    "    label=tk.Label(root,text=\"codewithmaharishicollege\",font=(\"Arial\",20),bg=\"red\",fg=\"black\").pack()\n",
    "    label1=tk.Label(root,text=\"user\",font=(\"Arial\",25),bg=\"black\",fg=\"white\").place(x=100,y=100)\n",
    "    label2=tk.Label(root,text=\"password\",font=(\"Arial\",25),bg=\"black\",fg=\"white\").place(x=100,y=200)\n",
    "    buton=tk.Button(root,text=\"Submit\",font=(\"Arial\",18),bg=\"blue\",fg=\"black\",command=fetchdata).place(x=200,y=370)\n",
    "    e1=tk.Entry(root)#entry box we can say input box\n",
    "    e2=tk.Entry(root,show=\"*\")#entry box we can say input box\n",
    "    e1.place(x=300,y=100)\n",
    "    e2.place(x=300,y=200)"
   ]
  },
  {
   "cell_type": "code",
   "execution_count": 7,
   "id": "fd4ee2dd-4e89-4c11-9e51-fb7e03410954",
   "metadata": {},
   "outputs": [
    {
     "name": "stdout",
     "output_type": "stream",
     "text": [
      "anu 123\n",
      "done\n",
      "[('', ''), ('sukhdev', '1234'), ('sukhdevsingh', '12345'), ('anu', '123')]\n",
      "anu\n",
      "123\n",
      "match data anu anu 123 123\n"
     ]
    }
   ],
   "source": [
    "main()"
   ]
  },
  {
   "cell_type": "code",
   "execution_count": null,
   "id": "39d9e576-4c0f-496d-8f6d-aa4657258dd2",
   "metadata": {},
   "outputs": [],
   "source": []
  },
  {
   "cell_type": "code",
   "execution_count": null,
   "id": "86fecaa1-125f-43bc-b01c-6718a025cf71",
   "metadata": {},
   "outputs": [],
   "source": []
  }
 ],
 "metadata": {
  "kernelspec": {
   "display_name": "Python [conda env:base] *",
   "language": "python",
   "name": "conda-base-py"
  },
  "language_info": {
   "codemirror_mode": {
    "name": "ipython",
    "version": 3
   },
   "file_extension": ".py",
   "mimetype": "text/x-python",
   "name": "python",
   "nbconvert_exporter": "python",
   "pygments_lexer": "ipython3",
   "version": "3.12.7"
  }
 },
 "nbformat": 4,
 "nbformat_minor": 5
}
